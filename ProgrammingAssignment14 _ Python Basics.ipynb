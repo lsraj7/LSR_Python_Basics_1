{
 "cells": [
  {
   "cell_type": "markdown",
   "metadata": {},
   "source": [
    "# Question 1:\n",
    "\n",
    "Define a class with a generator which can iterate the numbers, which are divisible by 7, between a given range 0 and n."
   ]
  },
  {
   "cell_type": "code",
   "execution_count": 1,
   "metadata": {},
   "outputs": [
    {
     "name": "stdout",
     "output_type": "stream",
     "text": [
      "Enter n value : 100\n",
      "[0, 7, 14, 21, 28, 35, 42, 49, 56, 63, 70, 77, 84, 91, 98]\n"
     ]
    }
   ],
   "source": [
    "class divisor:\n",
    "    def divChecker(n):\n",
    "        for i in range(n+1):\n",
    "            if i % 7 == 0:\n",
    "                yield i\n",
    "                \n",
    "n = int(input(\"Enter n value : \"))\n",
    "divisor.divChecker(n)\n",
    "divBy7 = [i for i in range(0, n) if (i % 7 == 0)]\n",
    "print(divBy7)"
   ]
  },
  {
   "cell_type": "markdown",
   "metadata": {},
   "source": [
    "# Question 2:\n",
    "Write a program to compute the frequency of the words from the input. The output should output after sorting the key alphanumerically. \n",
    "\n",
    "Suppose the following input is supplied to the program:\n",
    "\n",
    "New to Python or choosing between Python 2 and Python 3? Read Python 2 or Python 3.\n",
    "\n",
    "Then, the output should be:\n",
    "\n",
    "2:2\n",
    "\n",
    "3.:1\n",
    "\n",
    "3?:1\n",
    "\n",
    "New:1\n",
    "\n",
    "Python:5\n",
    "\n",
    "Read:1\n",
    "\n",
    "and:1\n",
    "\n",
    "between:1\n",
    "\n",
    "choosing:1\n",
    "\n",
    "or:2\n",
    "\n",
    "to:1\n"
   ]
  },
  {
   "cell_type": "code",
   "execution_count": 2,
   "metadata": {},
   "outputs": [
    {
     "name": "stdout",
     "output_type": "stream",
     "text": [
      "2 :  2\n",
      "3. :  1\n",
      "3? :  1\n",
      "New :  1\n",
      "Python :  5\n",
      "Read :  1\n",
      "and :  1\n",
      "between :  1\n",
      "choosing :  1\n",
      "or :  2\n",
      "to :  1\n"
     ]
    }
   ],
   "source": [
    "def split_words(str):\n",
    "    word_list = []\n",
    "    statement = str.split(\" \")\n",
    "    #print(statement)\n",
    "    for i in statement:\n",
    "            word_list.append(i)\n",
    "    return word_list\n",
    "\n",
    "statement = \"New to Python or choosing between Python 2 and Python 3? Read Python 2 or Python 3.\"\n",
    "#print(split_words(statement))\n",
    "\n",
    "word_list = sorted(split_words(statement))\n",
    "#print(word_list)\n",
    "\n",
    "import numpy as np\n",
    "\n",
    "my_list1 = list(np.unique(word_list)) #for finding unique elements\n",
    "for i in my_list1:\n",
    "    n = word_list.count(i)\n",
    "    if n!=0 :\n",
    "        print(i,\": \", n)"
   ]
  },
  {
   "cell_type": "markdown",
   "metadata": {},
   "source": [
    "# Question 3:\n",
    "\n",
    "Define a class Person and its two child classes: Male and Female. All classes have a method \"getGender\" which can print \"Male\" for Male class and \"Female\" for Female class."
   ]
  },
  {
   "cell_type": "code",
   "execution_count": 3,
   "metadata": {},
   "outputs": [
    {
     "name": "stdout",
     "output_type": "stream",
     "text": [
      "Male\n",
      "Female\n"
     ]
    }
   ],
   "source": [
    "class  Person(object):  \n",
    "    def  getGender(self):  \n",
    "        return  \"Unknown\"  \n",
    "class  Male(Person):  \n",
    "    def  getGender(self):  \n",
    "        return  \"Male\"  \n",
    "class  Female(Person):  \n",
    "    def  getGender(self):  \n",
    "        return  \"Female\"  \n",
    "\n",
    "_Male  =  Male()  \n",
    "_Female=  Female()  \n",
    "print(_Male.getGender())  \n",
    "print(_Female.getGender())"
   ]
  },
  {
   "cell_type": "markdown",
   "metadata": {},
   "source": [
    "# Question 4:\n",
    "Please write a program to generate all sentences where subject is in [\"I\", \"You\"] and verb is in [\"Play\", \"Love\"] and the object is in [\"Hockey\",\"Football\"]."
   ]
  },
  {
   "cell_type": "code",
   "execution_count": 4,
   "metadata": {},
   "outputs": [
    {
     "name": "stdout",
     "output_type": "stream",
     "text": [
      "I Play Hockey\n",
      "I Play Football\n",
      "I Love Hockey\n",
      "I Love Football\n",
      "You Play Hockey\n",
      "You Play Football\n",
      "You Love Hockey\n",
      "You Love Football\n"
     ]
    }
   ],
   "source": [
    "subjects = [\"I\", \"You\"]\n",
    "verbs = [\"Play\", \"Love\"]\n",
    "objects = [\"Hockey\",\"Football\"]\n",
    "\n",
    "result = [[i,j,k] for i in subjects\n",
    "                  for j in verbs\n",
    "                  for k in objects]\n",
    "for x in result:\n",
    "    print(\" \".join(x))"
   ]
  },
  {
   "cell_type": "markdown",
   "metadata": {},
   "source": [
    "# Question 5:\n",
    "Please write a program to compress and decompress the string \"hello world!hello world!hello world!hello world!\"."
   ]
  },
  {
   "cell_type": "code",
   "execution_count": 5,
   "metadata": {},
   "outputs": [
    {
     "name": "stdout",
     "output_type": "stream",
     "text": [
      "compressed statement : \n",
      "b'x\\x9c\\xcbH\\xcd\\xc9\\xc9W(\\xcf/\\xcaIQ\\xcc \\x82\\r\\x00\\xbd[\\x11\\xf5'\n",
      "decompressed statement : \n",
      "b'hello world!hello world!hello world!hello world!'\n"
     ]
    }
   ],
   "source": [
    "import zlib\n",
    "a = \"hello world!hello world!hello world!hello world!\".encode()\n",
    "b = zlib.compress(a)\n",
    "print(\"compressed statement : \")\n",
    "print(b)\n",
    "print(\"decompressed statement : \")\n",
    "print(zlib.decompress(b))"
   ]
  },
  {
   "cell_type": "markdown",
   "metadata": {},
   "source": [
    "# Question 6:\n",
    "Please write a binary search function which searches an item in a sorted list. The function should return the index of element to be searched in the list."
   ]
  },
  {
   "cell_type": "code",
   "execution_count": 6,
   "metadata": {},
   "outputs": [
    {
     "name": "stdout",
     "output_type": "stream",
     "text": [
      "[3, 4, 5, 6, 7, 8, 9]\n",
      "Element 9 is present at index 6\n"
     ]
    }
   ],
   "source": [
    "def binarySearch(array, x, low, high):\n",
    "    while low <= high:\n",
    "        mid = low + (high - low)//2\n",
    "        if array[mid] == x:\n",
    "            return mid\n",
    "        elif array[mid] < x:\n",
    "            low = mid + 1\n",
    "        else:\n",
    "            high = mid - 1\n",
    "    return -1\n",
    "\n",
    "array = [3, 4, 5, 6, 7, 8, 9]\n",
    "x = 9\n",
    "result = binarySearch(array, x, 0, len(array)-1)\n",
    "print(array)\n",
    "if result != -1:\n",
    "    print(\"Element\", x, \"is present at index \" + str(result))\n",
    "else:\n",
    "    print(\"Not found\")"
   ]
  },
  {
   "cell_type": "code",
   "execution_count": null,
   "metadata": {},
   "outputs": [],
   "source": []
  }
 ],
 "metadata": {
  "kernelspec": {
   "display_name": "Python 3",
   "language": "python",
   "name": "python3"
  },
  "language_info": {
   "codemirror_mode": {
    "name": "ipython",
    "version": 3
   },
   "file_extension": ".py",
   "mimetype": "text/x-python",
   "name": "python",
   "nbconvert_exporter": "python",
   "pygments_lexer": "ipython3",
   "version": "3.8.5"
  }
 },
 "nbformat": 4,
 "nbformat_minor": 4
}
