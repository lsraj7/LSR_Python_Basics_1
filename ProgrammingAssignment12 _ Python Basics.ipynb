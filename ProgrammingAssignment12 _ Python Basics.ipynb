{
 "cells": [
  {
   "cell_type": "markdown",
   "metadata": {},
   "source": [
    "# 1.\tWrite a Python program to Extract Unique values dictionary values?"
   ]
  },
  {
   "cell_type": "code",
   "execution_count": 1,
   "metadata": {},
   "outputs": [
    {
     "name": "stdout",
     "output_type": "stream",
     "text": [
      "The original dictionary is :  {'A': [5, 6, 7, 8], 'B': [1, 2, 3, 4], 'C': [6, 12, 10, 8], 'D': [1, 2]}\n",
      "The unique values list is :  [1, 2, 3, 4, 5, 6, 7, 8, 10, 12]\n"
     ]
    }
   ],
   "source": [
    "#chain() function\n",
    "#It is a function that takes a series of iterables and returns one iterable. \n",
    "#It groups all the iterables together and produces a single iterable as output. \n",
    "#Its output cannot be used directly and thus explicitly converted into iterables. \n",
    "\n",
    "from itertools import chain\n",
    "dictionary = {'A' : [5, 6, 7, 8],\n",
    "             'B' : [1, 2, 3, 4],\n",
    "             'C' : [6, 12, 10, 8],\n",
    "             'D' : [1, 2]}\n",
    "\n",
    "print(\"The original dictionary is : \" , str(dictionary)) \n",
    "\n",
    "#print(dictionary.values())\n",
    "#print(type(dictionary.values()))\n",
    "\n",
    "#val = set(chain(*dictionary.values()))\n",
    "          \n",
    "#print(val)\n",
    "#print(type(val))\n",
    "          \n",
    "result = list(sorted(set(chain(*dictionary.values()))))\n",
    "\n",
    "#print(res)\n",
    "#print(type(res))\n",
    "\n",
    "print(\"The unique values list is : \" , str(result))"
   ]
  },
  {
   "cell_type": "markdown",
   "metadata": {},
   "source": [
    "# 2.\tWrite a Python program to find the sum of all items in a dictionary?"
   ]
  },
  {
   "cell_type": "code",
   "execution_count": 2,
   "metadata": {},
   "outputs": [
    {
     "name": "stdout",
     "output_type": "stream",
     "text": [
      "The original dictionary is :  {'A': [5, 6, 7, 8], 'B': [1, 2, 3, 4], 'C': [6, 12, 10, 8], 'D': [1, 2]}\n",
      "The unique values list is :  [1, 2, 3, 4, 5, 6, 7, 8, 10, 12]\n",
      "The sum of values in the lis is :  58\n"
     ]
    }
   ],
   "source": [
    "from itertools import chain\n",
    "dictionary = {'A' : [5, 6, 7, 8],\n",
    "             'B' : [1, 2, 3, 4],\n",
    "             'C' : [6, 12, 10, 8],\n",
    "             'D' : [1, 2]}\n",
    "\n",
    "print(\"The original dictionary is : \" , str(dictionary)) \n",
    "\n",
    "#print(dictionary.values())\n",
    "#print(type(dictionary.values()))\n",
    "\n",
    "#val = set(chain(*dictionary.values()))\n",
    "          \n",
    "#print(val)\n",
    "#print(type(val))\n",
    "          \n",
    "result = list(sorted(set(chain(*dictionary.values()))))\n",
    "\n",
    "#print(res)\n",
    "#print(type(res))\n",
    "\n",
    "print(\"The unique values list is : \" , str(result))\n",
    "sum = 0\n",
    "for i in result:\n",
    "    sum = sum + i\n",
    "\n",
    "print(\"The sum of values in the lis is : \",sum)    "
   ]
  },
  {
   "cell_type": "markdown",
   "metadata": {},
   "source": [
    "# 3.\tWrite a Python program to Merging two Dictionaries?"
   ]
  },
  {
   "cell_type": "code",
   "execution_count": 3,
   "metadata": {},
   "outputs": [
    {
     "name": "stdout",
     "output_type": "stream",
     "text": [
      "The merged dictionary is:  ({'A': [5, 6, 7, 8], 'B': [1, 2, 3, 4], 'C': [6, 12, 10, 8], 'D': [1, 2]}, {'E': ['a', 'b', 'c', 'd'], 'F': ['e', 'f', 'g', 'h'], 'G': ['i', 'j', 'k', 'l'], 'H': ['m', 'n']})\n"
     ]
    }
   ],
   "source": [
    "dictionary1 = {'A' : [5, 6, 7, 8],\n",
    "             'B' : [1, 2, 3, 4],\n",
    "             'C' : [6, 12, 10, 8],\n",
    "             'D' : [1, 2]}\n",
    "dictionary2 = {'E' : [\"a\", \"b\", \"c\", \"d\"],\n",
    "             'F' : [\"e\", \"f\", \"g\", \"h\"],\n",
    "             'G' : [\"i\", \"j\", \"k\", \"l\"],\n",
    "             'H' : [\"m\", \"n\"]}\n",
    "dictionary3 = (dictionary1 , dictionary2)\n",
    "print(\"The merged dictionary is: \",dictionary3)"
   ]
  },
  {
   "cell_type": "code",
   "execution_count": 4,
   "metadata": {},
   "outputs": [
    {
     "name": "stdout",
     "output_type": "stream",
     "text": [
      "The merged dictionary is: \n"
     ]
    },
    {
     "data": {
      "text/plain": [
       "{'A': [5, 6, 7, 8],\n",
       " 'B': [1, 2, 3, 4],\n",
       " 'C': [6, 12, 10, 8],\n",
       " 'D': [1, 2],\n",
       " 'E': ['a', 'b', 'c', 'd'],\n",
       " 'F': ['e', 'f', 'g', 'h'],\n",
       " 'G': ['i', 'j', 'k', 'l'],\n",
       " 'H': ['m', 'n']}"
      ]
     },
     "execution_count": 4,
     "metadata": {},
     "output_type": "execute_result"
    }
   ],
   "source": [
    "#using update()\n",
    "dictionary1 = {'A' : [5, 6, 7, 8],\n",
    "             'B' : [1, 2, 3, 4],\n",
    "             'C' : [6, 12, 10, 8],\n",
    "             'D' : [1, 2]}\n",
    "dictionary2 = {'E' : [\"a\", \"b\", \"c\", \"d\"],\n",
    "             'F' : [\"e\", \"f\", \"g\", \"h\"],\n",
    "             'G' : [\"i\", \"j\", \"k\", \"l\"],\n",
    "             'H' : [\"m\", \"n\"]}\n",
    "dictionary1.update(dictionary2)\n",
    "print(\"The merged dictionary is: \" )\n",
    "dictionary1"
   ]
  },
  {
   "cell_type": "markdown",
   "metadata": {},
   "source": [
    "# 4.\tWrite a Python program to convert key-values list to flat dictionary?"
   ]
  },
  {
   "cell_type": "code",
   "execution_count": 5,
   "metadata": {},
   "outputs": [
    {
     "name": "stdout",
     "output_type": "stream",
     "text": [
      "The original dictionary is : {'month': [1, 2, 3, 4], 'name': ['Jan', 'Feb', 'March', 'April']}\n",
      "Flattened dictionary : {1: 'Jan', 2: 'Feb', 3: 'March', 4: 'April'}\n"
     ]
    }
   ],
   "source": [
    "#Python zip() method takes iterable or containers \n",
    "#and returns a single iterator object, having mapped values from all the containers. \n",
    "#It is used to map the similar index of multiple containers so that\n",
    "#they can be used just using a single entity. \n",
    "\n",
    "test_dict = {'month' : [1, 2, 3, 4],\n",
    "            'name' : ['Jan', 'Feb', 'March', 'April']}\n",
    "\n",
    "print(\"The original dictionary is : \" + str(test_dict))\n",
    "\n",
    "res = dict(zip(test_dict['month'], test_dict['name']))\n",
    "\n",
    "print(\"Flattened dictionary : \" + str(res))"
   ]
  },
  {
   "cell_type": "markdown",
   "metadata": {},
   "source": [
    "# 5.\tWrite a Python program to insertion at the beginning in OrderedDict?"
   ]
  },
  {
   "cell_type": "code",
   "execution_count": 6,
   "metadata": {},
   "outputs": [
    {
     "name": "stdout",
     "output_type": "stream",
     "text": [
      "Resultant Dictionary : OrderedDict([('c', '3'), ('a', '1'), ('b', '2')])\n"
     ]
    }
   ],
   "source": [
    "from collections import OrderedDict\n",
    "\n",
    "iniordered_dict = OrderedDict([('a', '1'), ('b', '2')])\n",
    "\n",
    "iniordered_dict.update({'c':'3'})\n",
    "iniordered_dict.move_to_end('c', last = False)\n",
    "\n",
    "print (\"Resultant Dictionary : \"+str(iniordered_dict))"
   ]
  },
  {
   "cell_type": "markdown",
   "metadata": {},
   "source": [
    "# 6.\tWrite a Python program to check order of character in string using OrderedDict()?"
   ]
  },
  {
   "cell_type": "code",
   "execution_count": 7,
   "metadata": {},
   "outputs": [
    {
     "name": "stdout",
     "output_type": "stream",
     "text": [
      "The string is \n",
      "LANKA SANDEEP RAJ\n",
      "The input pattern is \n",
      "LSR\n",
      "The order of pattern is correct\n"
     ]
    }
   ],
   "source": [
    "#Python dictionary fromkeys() function returns the dictionary with key mapped and specific value. \n",
    "#It creates a new dictionary from the given sequence with the specific value.\n",
    "from collections import OrderedDict\n",
    "def check_Order(input, pattern):\n",
    "    dict = OrderedDict.fromkeys(input)\n",
    "    ptrlen = 0\n",
    "    for key,value in dict.items():\n",
    "        if (key == pattern[ptrlen]):\n",
    "            ptrlen = ptrlen + 1\n",
    "        if (ptrlen == (len(pattern))):\n",
    "            return 'The order of pattern is correct'\n",
    "    return 'The order of pattern is incorrect'\n",
    "\n",
    "input = 'LANKA SANDEEP RAJ'\n",
    "pattern = 'LSR'\n",
    "\n",
    "print(\"The string is \")\n",
    "print(input)\n",
    "print(\"The input pattern is \")\n",
    "print(pattern)\n",
    "print(check_Order(input,pattern))"
   ]
  },
  {
   "cell_type": "markdown",
   "metadata": {},
   "source": [
    "# 7.\tWrite a Python program to sort Python Dictionaries by Key or Value?"
   ]
  },
  {
   "cell_type": "code",
   "execution_count": 8,
   "metadata": {},
   "outputs": [
    {
     "name": "stdout",
     "output_type": "stream",
     "text": [
      "Keys sorted are :\n",
      "1 2 3 4 5 6 \n",
      "Values sorted are :\n",
      "23 34 64 65 69 76 "
     ]
    }
   ],
   "source": [
    "def dictionary():\n",
    "    key_value ={}\n",
    "\n",
    "    key_value[2] = '64'       \n",
    "    key_value[1] = '69'\n",
    "    key_value[4] = '23'\n",
    "    key_value[5] = '65'\n",
    "    key_value[6] = '34'\n",
    "    key_value[3] = '76'\n",
    "    \n",
    "    print (\"Keys sorted are :\")\n",
    "\n",
    "    for i in sorted (key_value.keys()) :\n",
    "        print(i, end = \" \")\n",
    "    print()\n",
    "    print (\"Values sorted are :\")\n",
    "\n",
    "    for i in sorted (key_value.values()) :\n",
    "        print(i, end = \" \")\n",
    "\n",
    "dictionary()"
   ]
  },
  {
   "cell_type": "code",
   "execution_count": 9,
   "metadata": {},
   "outputs": [
    {
     "name": "stdout",
     "output_type": "stream",
     "text": [
      "Key Value pair sorted based on Key :\n",
      "(1, '69') (2, '64') (3, '76') (4, '23') (5, '65') (6, '34') "
     ]
    }
   ],
   "source": [
    "def dictionary():\n",
    "    key_value ={}\n",
    "\n",
    "    key_value[2] = '64'       \n",
    "    key_value[1] = '69'\n",
    "    key_value[4] = '23'\n",
    "    key_value[5] = '65'\n",
    "    key_value[6] = '34'\n",
    "    key_value[3] = '76'\n",
    "    \n",
    "    \n",
    "    print (\"Key Value pair sorted based on Key :\")\n",
    "\n",
    "    for i in sorted (key_value.keys()) :\n",
    "        print((i , key_value[i]) , end = \" \")\n",
    "    \n",
    "\n",
    "dictionary()"
   ]
  },
  {
   "cell_type": "code",
   "execution_count": null,
   "metadata": {},
   "outputs": [],
   "source": []
  },
  {
   "cell_type": "code",
   "execution_count": null,
   "metadata": {},
   "outputs": [],
   "source": []
  }
 ],
 "metadata": {
  "kernelspec": {
   "display_name": "Python 3",
   "language": "python",
   "name": "python3"
  },
  "language_info": {
   "codemirror_mode": {
    "name": "ipython",
    "version": 3
   },
   "file_extension": ".py",
   "mimetype": "text/x-python",
   "name": "python",
   "nbconvert_exporter": "python",
   "pygments_lexer": "ipython3",
   "version": "3.8.5"
  }
 },
 "nbformat": 4,
 "nbformat_minor": 4
}
