{
 "cells": [
  {
   "cell_type": "markdown",
   "metadata": {},
   "source": [
    "# Question1. Create a function that takes three arguments a, b, c and returns the sum of the numbers that are evenly divided by c from the range a, b inclusive.\n",
    "Examples\n",
    "evenly_divisible(1, 10, 20) ➞ 0\n",
    "#No number between 1 and 10 can be evenly divided by 20.\n",
    "\n",
    "evenly_divisible(1, 10, 2) ➞ 30\n",
    "#2 + 4 + 6 + 8 + 10 = 30\n",
    "\n",
    "evenly_divisible(1, 10, 3) ➞ 18\n",
    "#3 + 6 + 9 = 18"
   ]
  },
  {
   "cell_type": "code",
   "execution_count": 1,
   "metadata": {},
   "outputs": [
    {
     "name": "stdout",
     "output_type": "stream",
     "text": [
      "2+4+6+8+10+= 30\n"
     ]
    }
   ],
   "source": [
    "def evenly_divisible(a,b,c):\n",
    "    ed = 0\n",
    "    for i in range(a,b+1):\n",
    "        if i % c == 0:\n",
    "            ed = i + ed\n",
    "            print(i, end= \"+\")\n",
    "            \n",
    "    if ed!=0:\n",
    "        print(\"=\",ed)\n",
    "    else:\n",
    "        print(ed)\n",
    "        print(\"No number between\", a, \"and\", b, \"can be evenly divided by\",c)\n",
    "    \n",
    "evenly_divisible(1,10,2)"
   ]
  },
  {
   "cell_type": "code",
   "execution_count": 2,
   "metadata": {},
   "outputs": [
    {
     "name": "stdout",
     "output_type": "stream",
     "text": [
      "30\n",
      "2+4+6+8+10 = 30\n"
     ]
    }
   ],
   "source": [
    "def evenly_divisible(a,b,c):\n",
    "    ed=0\n",
    "    list1 = [(i+ed) for i in range(a,b+1) if i % c == 0]\n",
    "    sum1 = sum(list1) \n",
    "    \n",
    "    # for printing the values\n",
    "    strings_from_ints = [str(j) for j in list1] # converting interger data type to string data type\n",
    "    s=\"+\".join(strings_from_ints)\n",
    "    print(sum1)\n",
    "    \n",
    "    if sum1!=0:\n",
    "        print(s,\"=\",sum1)\n",
    "    else:\n",
    "        print(\"No number between\", a, \"and\", b, \"can be evenly divided by\",c)\n",
    "    \n",
    "evenly_divisible(1,10,2)"
   ]
  },
  {
   "cell_type": "markdown",
   "metadata": {},
   "source": [
    "# Question2. Create a function that returns True if a given inequality expression is correct and False otherwise.\n",
    "Examples\n",
    "\n",
    "correct_signs(\"3 < 7 < 11\") ➞ True\n",
    "\n",
    "correct_signs(\"13 > 44 > 33 > 1\") ➞ False\n",
    "\n",
    "correct_signs(\"1 < 2 < 6 < 9 > 3\") ➞ True"
   ]
  },
  {
   "cell_type": "code",
   "execution_count": 3,
   "metadata": {},
   "outputs": [
    {
     "name": "stdout",
     "output_type": "stream",
     "text": [
      "\n",
      "13 44\n",
      "f_count > Loop 1\n",
      "\n",
      "44 33\n",
      "t_count > Loop 1\n",
      "\n",
      "33 1\n",
      "t_count > Loop 2\n",
      "False\n"
     ]
    }
   ],
   "source": [
    "def split_words(str):\n",
    "        word_list = []\n",
    "        string = str.split(\" \")\n",
    "        #print(string)\n",
    "        for i in string:\n",
    "            word_list.append(i)\n",
    "        return word_list\n",
    "    \n",
    "def correct_signs(string):\n",
    "        split_words1 = split_words(string)\n",
    "        t_count = 0\n",
    "        f_count = 0\n",
    "        x = len(split_words1)\n",
    "        for i in range(1,x-1):\n",
    "            if split_words1[i] == '>':\n",
    "                if (int(split_words1[i-1]) > int(split_words1[i+1])):\n",
    "                    print()\n",
    "                    print(int(split_words1[i-1]) ,int(split_words1[i+1]))\n",
    "                    t_count = t_count + 1\n",
    "                    print('t_count > Loop',t_count)\n",
    "                else:\n",
    "                    print()\n",
    "                    print(int(split_words1[i-1]) ,int(split_words1[i+1]))\n",
    "                    f_count = f_count + 1\n",
    "                    print('f_count > Loop',f_count)\n",
    "            elif split_words1[i] == '<':\n",
    "                if (int(split_words1[i-1]) < int(split_words1[i+1])):\n",
    "                    print()\n",
    "                    print(int(split_words1[i-1]) ,int(split_words1[i+1]))\n",
    "                    t_count = t_count + 1\n",
    "                    print('t_count < Loop',t_count)\n",
    "                else:\n",
    "                    print()\n",
    "                    print(int(split_words1[i-1]) ,int(split_words1[i+1]))\n",
    "                    f_count = f_count + 1\n",
    "                    print('t_count < Loop',t_count)\n",
    "        return f_count\n",
    "    \n",
    "if correct_signs(\"13 > 44 > 33 > 1\") == 0:\n",
    "    print(True)\n",
    "else :\n",
    "    print(False)"
   ]
  },
  {
   "cell_type": "code",
   "execution_count": 4,
   "metadata": {},
   "outputs": [
    {
     "name": "stdout",
     "output_type": "stream",
     "text": [
      "True\n"
     ]
    }
   ],
   "source": [
    "def split_words(str):\n",
    "        word_list = []\n",
    "        string = str.split(\" \")\n",
    "        #print(string)\n",
    "        for i in string:\n",
    "            word_list.append(i)\n",
    "        return word_list\n",
    "    \n",
    "def correct_signs(string):\n",
    "        split_words1 = split_words(string)\n",
    "        t_count = 0\n",
    "        f_count = 0\n",
    "        x = len(split_words1)\n",
    "        for i in range(1,x-1):\n",
    "            if split_words1[i] == '>':\n",
    "                if (int(split_words1[i-1]) > int(split_words1[i+1])):\n",
    "                    t_count = t_count + 1\n",
    "                else:\n",
    "                    f_count = f_count + 1\n",
    "            elif split_words1[i] == '<':\n",
    "                if (int(split_words1[i-1]) < int(split_words1[i+1])):\n",
    "                    t_count = t_count + 1\n",
    "                else:\n",
    "                    f_count = f_count + 1\n",
    "        return f_count\n",
    "    \n",
    "if correct_signs(\"1 < 2 < 6 < 9 > 3\") == 0:\n",
    "    print(True)\n",
    "else :\n",
    "    print(False)"
   ]
  },
  {
   "cell_type": "markdown",
   "metadata": {},
   "source": [
    "# Question3. Create a function that replaces all the vowels in a string with a specified character.\n",
    "Examples\n",
    "\n",
    "replace_vowels(\"the aardvark\", \"#\") ➞ \"th# ##rdv#rk\"\n",
    "\n",
    "replace_vowels(\"minnie mouse\", \"?\") ➞ \"m?nn?? m??s?\"\n",
    "\n",
    "replace_vowels(\"shakespeare\", \"*\") ➞ \"sh*k*sp**r*\""
   ]
  },
  {
   "cell_type": "code",
   "execution_count": 5,
   "metadata": {},
   "outputs": [
    {
     "data": {
      "text/plain": [
       "'th# ##rdv#rk'"
      ]
     },
     "execution_count": 5,
     "metadata": {},
     "output_type": "execute_result"
    }
   ],
   "source": [
    "def replace_vowels(string, sp_char):\n",
    "    vowels = [\"a\", \"i\", \"e\", \"o\", \"u\"]\n",
    "    for letter in string:\n",
    "        if letter in vowels:\n",
    "            string = string.replace(letter,sp_char)\n",
    "    return string\n",
    "\n",
    "replace_vowels(\"the aardvark\", \"#\")"
   ]
  },
  {
   "cell_type": "markdown",
   "metadata": {},
   "source": [
    "# Question4. Write a function that calculates the factorial of a number recursively.\n",
    "Examples\n",
    "factorial(5) ➞ 120\n",
    "\n",
    "factorial(3) ➞ 6\n",
    "\n",
    "factorial(1) ➞ 1\n",
    "\n",
    "factorial(0) ➞ 1\n"
   ]
  },
  {
   "cell_type": "code",
   "execution_count": 6,
   "metadata": {},
   "outputs": [
    {
     "data": {
      "text/plain": [
       "120"
      ]
     },
     "execution_count": 6,
     "metadata": {},
     "output_type": "execute_result"
    }
   ],
   "source": [
    "def factorial(n):\n",
    "    if n==1:\n",
    "        return 1\n",
    "    else:\n",
    "        return n*factorial(n-1)\n",
    "    \n",
    "factorial(5)"
   ]
  },
  {
   "cell_type": "markdown",
   "metadata": {},
   "source": [
    "# Question 5\n",
    "Hamming distance is the number of characters that differ between two strings.\n",
    "To illustrate:\n",
    "String1: \"abcbba\"\n",
    "String2: \"abcbda\"\n",
    "\n",
    "Hamming Distance: 1 - \"b\" vs. \"d\" is the only difference.\n",
    "Create a function that computes the hamming distance between two strings.\n",
    "Examples\n",
    "hamming_distance(\"abcde\", \"bcdef\") ➞ 5\n",
    "\n",
    "hamming_distance(\"abcde\", \"abcde\") ➞ 0\n",
    "\n",
    "hamming_distance(\"strong\", \"strung\") ➞ 1\n"
   ]
  },
  {
   "cell_type": "code",
   "execution_count": 7,
   "metadata": {},
   "outputs": [
    {
     "name": "stdout",
     "output_type": "stream",
     "text": [
      "1\n",
      "5\n",
      "0\n",
      "1\n"
     ]
    }
   ],
   "source": [
    "def hamming_distance(x,y):\n",
    "    count = 0\n",
    "    for i in range(len(x)):\n",
    "        if x[i] == y[i]:\n",
    "            continue\n",
    "        else:\n",
    "            count = count + 1\n",
    "    return count\n",
    "\n",
    "print(hamming_distance(\"abcbba\", \"abcbda\") )\n",
    "print(hamming_distance(\"abcde\", \"bcdef\") )\n",
    "print(hamming_distance(\"abcde\", \"abcde\") )\n",
    "print(hamming_distance(\"strong\", \"strung\"))"
   ]
  },
  {
   "cell_type": "code",
   "execution_count": null,
   "metadata": {},
   "outputs": [],
   "source": []
  }
 ],
 "metadata": {
  "kernelspec": {
   "display_name": "Python 3",
   "language": "python",
   "name": "python3"
  },
  "language_info": {
   "codemirror_mode": {
    "name": "ipython",
    "version": 3
   },
   "file_extension": ".py",
   "mimetype": "text/x-python",
   "name": "python",
   "nbconvert_exporter": "python",
   "pygments_lexer": "ipython3",
   "version": "3.8.5"
  }
 },
 "nbformat": 4,
 "nbformat_minor": 4
}
