{
 "cells": [
  {
   "cell_type": "markdown",
   "metadata": {},
   "source": [
    "# 1.\tWrite a Python program to check if the given number is a Disarium Number?\n",
    "A number is called Disarium if sum of its digits powered with their respective positions is equal to the number itself."
   ]
  },
  {
   "cell_type": "code",
   "execution_count": 1,
   "metadata": {},
   "outputs": [
    {
     "name": "stdout",
     "output_type": "stream",
     "text": [
      "Enter a Number: 89\n",
      "89 It's a DISARIUM Number!\n"
     ]
    }
   ],
   "source": [
    "num = int(input(\"Enter a Number: \"))\n",
    "for i in range(num+1):\n",
    "    num=i\n",
    "    result = 0\n",
    "    power = len(str(i))\n",
    "    while(i!=0):\n",
    "        right_most_digit = i%10 \n",
    "# To get right most digit of any number, remainder operator with 10 is used.\n",
    "# for example 89%10 = 9 , 153%10 =3 ..\n",
    "        #print(digit)\n",
    "        result = result + right_most_digit**power\n",
    "        power = power-1\n",
    "        #print(power)\n",
    "        i = i//10\n",
    "# to get the number without right most digit of a number, truncated integer operator is used\n",
    "# for example, 153//10 =15, 1234//10=123, 89//10=8\n",
    "if num==result:\n",
    "            print(num, \"It's a DISARIUM Number!\")\n",
    "else :\n",
    "            print(num, \"It's NOT a DISARIUM Number!\")"
   ]
  },
  {
   "cell_type": "markdown",
   "metadata": {},
   "source": [
    "# 2.\tWrite a Python program to print all disarium numbers between 1 to 100?"
   ]
  },
  {
   "cell_type": "code",
   "execution_count": 2,
   "metadata": {},
   "outputs": [
    {
     "name": "stdout",
     "output_type": "stream",
     "text": [
      "Enter a starting Number of Range: 1\n",
      "Enter a starting Number of Range: 100\n",
      "The Disarium Numbers in the range mentioned are:\n",
      "0 1 2 3 4 5 6 7 8 9 89 "
     ]
    }
   ],
   "source": [
    "x = int(input(\"Enter a starting Number of Range: \"))\n",
    "y = int(input(\"Enter a starting Number of Range: \"))\n",
    "print(\"The Disarium Numbers in the range mentioned are:\")\n",
    "for i in range(x-1,y+1):\n",
    "    num = i\n",
    "    result = 0\n",
    "    power = len(str(num))\n",
    "    #print(power)\n",
    "    while(i!=0):\n",
    "        right_most_digit = i%10 \n",
    "# To get right most digit of any number, remainder operator with 10 is used.\n",
    "# for example 89%10 = 9 , 153%10 =3 ..\n",
    "        #print(digit)\n",
    "        result = result +  right_most_digit**power\n",
    "        power = power-1\n",
    "        #print(power)\n",
    "        i = i//10\n",
    "        #i = num\n",
    "# to get the number without right most digit of a number, truncated integer operator is used\n",
    "# for example, 153//10 =15, 1234//10=123, 89//10=8\n",
    "    if num==result: \n",
    "        print(num, end=\" \")"
   ]
  },
  {
   "cell_type": "markdown",
   "metadata": {},
   "source": [
    "# 3.\tWrite a Python program to check if the given number is Happy Number?\n",
    "A happy number is a number which eventually reaches 1 when replaced by the sum of the square of each digit."
   ]
  },
  {
   "cell_type": "code",
   "execution_count": 3,
   "metadata": {},
   "outputs": [
    {
     "name": "stdout",
     "output_type": "stream",
     "text": [
      "Enter a Number : 13\n",
      "13 is Happy Number\n"
     ]
    }
   ],
   "source": [
    "def sum_of_digit(n):\n",
    "    res=0\n",
    "    rem=0\n",
    "    while n>0:\n",
    "        rem = n%10\n",
    "        res = res + rem**2\n",
    "        n = n//10\n",
    "    return res\n",
    "\n",
    "n= int(input(\"Enter a Number : \"))\n",
    "result = n\n",
    "while result!=1 and result !=4:\n",
    "    result = sum_of_digit(result)\n",
    "\n",
    "if result == 1:\n",
    "    print(n, \"is Happy Number\")\n",
    "else :\n",
    "    print(n, \"is NOT Happy number\")"
   ]
  },
  {
   "cell_type": "markdown",
   "metadata": {},
   "source": [
    "# 4.\tWrite a Python program to print all happy numbers between 1 and 100?"
   ]
  },
  {
   "cell_type": "code",
   "execution_count": 4,
   "metadata": {},
   "outputs": [
    {
     "name": "stdout",
     "output_type": "stream",
     "text": [
      "Enter a starting Number of Range: 1\n",
      "Enter a starting Number of Range: 100\n",
      "The HAPPY Numbers in the range mentioned are:\n",
      "1 7 10 13 19 23 28 31 32 44 49 68 70 79 82 86 91 94 97 100 "
     ]
    }
   ],
   "source": [
    "def sum_of_digit(n):\n",
    "    res=0\n",
    "    rem=0\n",
    "    while n>0:\n",
    "        rem = n%10\n",
    "        res = res + rem**2\n",
    "        n = n//10\n",
    "    return res\n",
    "\n",
    "x = int(input(\"Enter a starting Number of Range: \"))\n",
    "y = int(input(\"Enter a starting Number of Range: \"))\n",
    "print(\"The HAPPY Numbers in the range mentioned are:\")\n",
    "\n",
    "for n in range(x,y+1):\n",
    "    result = n\n",
    "    while result!=1 and result !=4:\n",
    "        result = sum_of_digit(result)\n",
    "\n",
    "    if result == 1:\n",
    "        print(n,  end= \" \")"
   ]
  },
  {
   "cell_type": "markdown",
   "metadata": {},
   "source": [
    "# 5.\tWrite a Python program to determine whether the given number is a Harshad Number?\n",
    "An n-Harshad (or Niven) number is an integer number divisible by the sum of its digit in base n."
   ]
  },
  {
   "cell_type": "code",
   "execution_count": 5,
   "metadata": {},
   "outputs": [
    {
     "name": "stdout",
     "output_type": "stream",
     "text": [
      "Enter a Number: 153\n",
      "153 It's a HARSHAD Number!\n"
     ]
    }
   ],
   "source": [
    "n= int(input(\"Enter a Number: \"))\n",
    "result=0\n",
    "i =n \n",
    "while i>0:\n",
    "    right_most_digit = i%10\n",
    "    #print(right_most_digit)\n",
    "    result = result +  right_most_digit\n",
    "    #print(result)\n",
    "    i= i//10\n",
    "    \n",
    "remainder = n%result\n",
    "#print(remainder)\n",
    "if remainder == 0:\n",
    "    print(n, \"It's a HARSHAD Number!\")\n",
    "else :\n",
    "    print(n, \"It's NOT a HARSHAD Number!\")"
   ]
  },
  {
   "cell_type": "markdown",
   "metadata": {},
   "source": [
    "# 6.\tWrite a Python program to print all pronic numbers between 1 and 100?\n",
    "A pronic number is a number that is the product of two consecutive integers"
   ]
  },
  {
   "cell_type": "code",
   "execution_count": 6,
   "metadata": {},
   "outputs": [
    {
     "name": "stdout",
     "output_type": "stream",
     "text": [
      "Enter a starting Number of Range: 1\n",
      "Enter a starting Number of Range: 100\n",
      "The HAPPY Numbers in the range mentioned are:\n",
      "2 6 12 20 30 42 56 72 90 "
     ]
    }
   ],
   "source": [
    "x = int(input(\"Enter a starting Number of Range: \"))\n",
    "y = int(input(\"Enter a starting Number of Range: \"))\n",
    "print(\"The HAPPY Numbers in the range mentioned are:\")\n",
    "for i in range(x,y+1):\n",
    "    product = i*(i+1)\n",
    "    if product < (y+1):\n",
    "        #print(i,\"x\",(i+1), \"=\", product)\n",
    "        print(product, end= \" \")"
   ]
  },
  {
   "cell_type": "code",
   "execution_count": null,
   "metadata": {},
   "outputs": [],
   "source": []
  }
 ],
 "metadata": {
  "kernelspec": {
   "display_name": "Python 3",
   "language": "python",
   "name": "python3"
  },
  "language_info": {
   "codemirror_mode": {
    "name": "ipython",
    "version": 3
   },
   "file_extension": ".py",
   "mimetype": "text/x-python",
   "name": "python",
   "nbconvert_exporter": "python",
   "pygments_lexer": "ipython3",
   "version": "3.8.5"
  }
 },
 "nbformat": 4,
 "nbformat_minor": 4
}
