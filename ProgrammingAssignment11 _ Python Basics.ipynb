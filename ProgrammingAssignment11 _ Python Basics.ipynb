{
 "cells": [
  {
   "cell_type": "markdown",
   "metadata": {},
   "source": [
    "# 1.\tWrite a Python program to find words which are greater than given length k?"
   ]
  },
  {
   "cell_type": "code",
   "execution_count": 1,
   "metadata": {},
   "outputs": [
    {
     "name": "stdout",
     "output_type": "stream",
     "text": [
      "Enter a Word: sandeep\n",
      "This word is Greater Than length k \n"
     ]
    }
   ],
   "source": [
    "word = input(\"Enter a Word: \")\n",
    "length = len(word)\n",
    "k = 4\n",
    "if length > k :\n",
    "    print(\"This word is Greater Than length k \")\n",
    "else:\n",
    "    print(\"This word is Greater Than length k \")\n"
   ]
  },
  {
   "cell_type": "code",
   "execution_count": 2,
   "metadata": {},
   "outputs": [
    {
     "name": "stdout",
     "output_type": "stream",
     "text": [
      "Enter a statement: sandeep raj lanka\n",
      " The words which are greater than k = 3 are: \n",
      "['sandeep', 'lanka']\n"
     ]
    }
   ],
   "source": [
    "#Spliting words based on space\n",
    "def split_words_k(k, str):\n",
    "    word_list = []\n",
    "    statement = str.split(\" \")\n",
    "    #print(statement)\n",
    "    for i in statement:\n",
    "        if len(i) > k:\n",
    "            word_list.append(i)\n",
    "    return word_list\n",
    "\n",
    "statement = input(\"Enter a statement: \")\n",
    "k = 3\n",
    "print(\" The words which are greater than k =\", k, \"are: \")\n",
    "print(split_words_k(k, statement))"
   ]
  },
  {
   "cell_type": "markdown",
   "metadata": {},
   "source": [
    "# 2.\tWrite a Python program for removing i-th character from a string?"
   ]
  },
  {
   "cell_type": "code",
   "execution_count": 3,
   "metadata": {},
   "outputs": [
    {
     "name": "stdout",
     "output_type": "stream",
     "text": [
      " Enter a word: sandeep\n",
      " Enter the index of letter you want to remove from the word: 4\n",
      " string after removing i-th character:  sandep\n"
     ]
    }
   ],
   "source": [
    "def remove_i(string, i):\n",
    "    a = string[ : i]\n",
    "    b = string[i + 1: ]\n",
    "    return a + b\n",
    "\n",
    "string = input(' Enter a word: ')\n",
    "i = int(input(' Enter the index of letter you want to remove from the word: '))\n",
    "print(\" string after removing i-th character: \",remove_i(string, i))"
   ]
  },
  {
   "cell_type": "markdown",
   "metadata": {},
   "source": [
    "# 3.\tWrite a Python program to split and join a string?"
   ]
  },
  {
   "cell_type": "code",
   "execution_count": 4,
   "metadata": {},
   "outputs": [
    {
     "name": "stdout",
     "output_type": "stream",
     "text": [
      "Splitted String is ['SANDEEP', 'RAJ', 'LANKA']\n",
      "Joined String is SANDEEP-RAJ-LANKA\n"
     ]
    }
   ],
   "source": [
    "def split_string(string):\n",
    "    list_string = string.split(' ')\n",
    "    return list_string\n",
    "\n",
    "def join_string(list_string):\n",
    "    string = '-'.join(list_string)\n",
    "    return string\n",
    "\n",
    "string = 'SANDEEP RAJ LANKA'\n",
    "\n",
    "list_string = split_string(string)\n",
    "print(\"Splitted String is\",list_string)\n",
    "\n",
    "new_string = join_string(list_string)\n",
    "print(\"Joined String is\",new_string)\n"
   ]
  },
  {
   "cell_type": "markdown",
   "metadata": {},
   "source": [
    "# 4.\tWrite a Python to check if a given string is binary string or not?"
   ]
  },
  {
   "cell_type": "code",
   "execution_count": 5,
   "metadata": {},
   "outputs": [
    {
     "name": "stdout",
     "output_type": "stream",
     "text": [
      "Yes! It is a binary String\n"
     ]
    }
   ],
   "source": [
    "def check_binary(string) :\n",
    "    binary = '01'\n",
    "    count = 0\n",
    "    for i in string :\n",
    "        if i not in binary :\n",
    "            count = 1\n",
    "            break\n",
    "        else :\n",
    "            pass\n",
    "    \n",
    "    if count > 0:\n",
    "        print(\"Not a Binary String\")\n",
    "    else :\n",
    "        print(\"Yes! It is a binary String\")\n",
    "    \n",
    "    #return count\n",
    "        \n",
    "string = \"011101101011000101\"\n",
    "check_binary(string)"
   ]
  },
  {
   "cell_type": "markdown",
   "metadata": {},
   "source": [
    "# 5.\tWrite a Python program to find uncommon words from two Strings?"
   ]
  },
  {
   "cell_type": "code",
   "execution_count": 6,
   "metadata": {},
   "outputs": [
    {
     "name": "stdout",
     "output_type": "stream",
     "text": [
      " bangalore mumbai delhi chennai\n"
     ]
    }
   ],
   "source": [
    "def uncommon_words(a,b):\n",
    "    list_a = a.split()\n",
    "    list_b = b.split()\n",
    "    uc = ''\n",
    "    for i in list_a:\n",
    "        if i not in list_b:\n",
    "            uc = uc+\" \"+i\n",
    "    for j in list_b:\n",
    "        if j not in list_a:\n",
    "            uc = uc+\" \"+j\n",
    "\n",
    "    return uc\n",
    "\n",
    "a = \"hyderabad bangalore mumbai\"\n",
    "b = \"delhi hyderabad chennai\"\n",
    "print(uncommon_words(a,b))"
   ]
  },
  {
   "cell_type": "markdown",
   "metadata": {},
   "source": [
    "# 6.\tWrite a Python to find all duplicate characters in string?"
   ]
  },
  {
   "cell_type": "code",
   "execution_count": 7,
   "metadata": {},
   "outputs": [
    {
     "name": "stdout",
     "output_type": "stream",
     "text": [
      "H occured  3 times\n",
      "a occured  3 times\n",
      "d occured  2 times\n",
      "e occured  3 times\n",
      "g occured  2 times\n",
      "i occured  2 times\n",
      "o occured  7 times\n",
      "r occured  2 times\n",
      "u occured  2 times\n",
      "y occured  2 times\n"
     ]
    }
   ],
   "source": [
    "def Convert(string):\n",
    "    list1=[]\n",
    "    list1[:0]=string\n",
    "    return list1\n",
    "\n",
    "statement = \"Hai! How are you? Hope you are doing good\"\n",
    "my_list= (Convert(statement))\n",
    "#print(my_list)\n",
    "\n",
    "import numpy as np\n",
    "\n",
    "my_list1 = list(np.unique(my_list)) #for finding unique elements\n",
    "for i in my_list1:\n",
    "    n = my_list.count(i)\n",
    "    if n>1 and i != \" \" :\n",
    "        print(i,\"occured \", n, \"times\")"
   ]
  },
  {
   "cell_type": "markdown",
   "metadata": {},
   "source": [
    "# 7.\tWrite a Python Program to check if a string contains any special character?"
   ]
  },
  {
   "cell_type": "code",
   "execution_count": 8,
   "metadata": {},
   "outputs": [
    {
     "name": "stdout",
     "output_type": "stream",
     "text": [
      "! ? \n",
      "The statement contains above Special characters\n"
     ]
    }
   ],
   "source": [
    "statement = \"Hai! How are you? Hope you are doing good\"\n",
    "\n",
    "sp_char = '''!()-[]{};:'\"\\,<>./?@#$%^&*_~''' \n",
    "\n",
    "punct = \"\"\n",
    "\n",
    "for i in statement:\n",
    "    if i in sp_char:\n",
    "        print( i, end=\" \")\n",
    "print()        \n",
    "print(\"The statement contains above Special characters\",)"
   ]
  },
  {
   "cell_type": "code",
   "execution_count": null,
   "metadata": {},
   "outputs": [],
   "source": []
  }
 ],
 "metadata": {
  "kernelspec": {
   "display_name": "Python 3",
   "language": "python",
   "name": "python3"
  },
  "language_info": {
   "codemirror_mode": {
    "name": "ipython",
    "version": 3
   },
   "file_extension": ".py",
   "mimetype": "text/x-python",
   "name": "python",
   "nbconvert_exporter": "python",
   "pygments_lexer": "ipython3",
   "version": "3.8.5"
  }
 },
 "nbformat": 4,
 "nbformat_minor": 4
}
