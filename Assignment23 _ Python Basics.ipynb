{
 "cells": [
  {
   "cell_type": "markdown",
   "metadata": {},
   "source": [
    "# 1. What is the result of the code, and why?\n",
    ">>> def func(a, b=6, c=8):\n",
    "print(a, b, c)\n",
    ">>> func(1, 2)\n"
   ]
  },
  {
   "cell_type": "code",
   "execution_count": 1,
   "metadata": {},
   "outputs": [
    {
     "name": "stdout",
     "output_type": "stream",
     "text": [
      "1 2 8\n"
     ]
    }
   ],
   "source": [
    ">>> def func(a, b=6, c=8):\n",
    "    print(a, b, c)\n",
    ">>> func(1,2)"
   ]
  },
  {
   "cell_type": "markdown",
   "metadata": {},
   "source": [
    "    Why?\n",
    "    Reg a : while defining this Function, func(), value of a is not defined. So, Whenever it's called, a value should be mentioned.\n",
    "    \n",
    "    Reg b : while defining this Function, func(), value of b is defined as 6. So, it's value will be 6 by default. However, while calling it, its value is overwritten as 2. By default the place after first comma will be taken by b.\n",
    "    \n",
    "    Reg c : while defining this Function, func(), value of c is defined as 8. So, it's value will be 8 by default and need not be mentioned while calling this function.   "
   ]
  },
  {
   "cell_type": "markdown",
   "metadata": {},
   "source": [
    "# 2. What is the result of this code, and why?\n",
    ">>> def func(a, b, c=5):\n",
    "print(a, b, c)\n",
    ">>> func(1, c=3, b=2)\n"
   ]
  },
  {
   "cell_type": "code",
   "execution_count": 2,
   "metadata": {},
   "outputs": [
    {
     "name": "stdout",
     "output_type": "stream",
     "text": [
      "1 2 3\n"
     ]
    }
   ],
   "source": [
    ">>> def func(a, b, c=5):\n",
    "    print(a, b, c)\n",
    ">>> func(1, c=3, b=2)"
   ]
  },
  {
   "cell_type": "markdown",
   "metadata": {},
   "source": [
    "    Why?\n",
    "    Reg a : while defining this Function, func(), value of a is not defined. So, Whenever it's called, a value should be mentioned. By default, This is place before first comma.\n",
    "    \n",
    "    Reg b : while defining this Function, func(), value of b is not defined. By default, the \"b\" place/position is after first comma. But it has been defined with equal to at the last position. That is python does not need the variables inside a function in a order if they are mentioned by assigning them to appropriate variable.\n",
    "    \n",
    "    Reg c : while defining this Function, func(), value of c is defined as 5. While calling the function, the value is overwritten as 3."
   ]
  },
  {
   "cell_type": "markdown",
   "metadata": {},
   "source": [
    "# 3. How about this code: what is its result, and why?\n",
    ">>> def func(a, *pargs):\n",
    "print(a, pargs)\n",
    ">>> func(1, 2, 3)\n"
   ]
  },
  {
   "cell_type": "code",
   "execution_count": 3,
   "metadata": {},
   "outputs": [
    {
     "name": "stdout",
     "output_type": "stream",
     "text": [
      "1 (2, 3)\n"
     ]
    }
   ],
   "source": [
    ">>> def func(a, *pargs):\n",
    "    print(a, pargs)\n",
    ">>> func(1, 2, 3)"
   ]
  },
  {
   "cell_type": "markdown",
   "metadata": {},
   "source": [
    "    Why?\n",
    "    Reg a : while defining this Function, func(), value of a is not defined. So, Whenever it's called, a value should be mentioned. By default, This is place/position before first comma.\n",
    "\n",
    "    Reg *pargs : while defining this Function, func(), after first comma, *args is used. \"*args\" means any number of values canbe added in form of list/tuple. So, \"2,3\" are taken as tuple."
   ]
  },
  {
   "cell_type": "markdown",
   "metadata": {},
   "source": [
    "# 4. What does this code print, and why?\n",
    ">>> def func(a, **kargs):\n",
    "print(a, kargs)\n",
    ">>> func(a=1, c=3, b=2)\n"
   ]
  },
  {
   "cell_type": "code",
   "execution_count": 4,
   "metadata": {},
   "outputs": [
    {
     "name": "stdout",
     "output_type": "stream",
     "text": [
      "1 {'c': 3, 'b': 2}\n"
     ]
    }
   ],
   "source": [
    ">>> def func(a, **kargs):\n",
    "    print(a, kargs)\n",
    ">>> func(a=1, c=3, b=2)"
   ]
  },
  {
   "cell_type": "markdown",
   "metadata": {},
   "source": [
    "    Why?\n",
    "        Reg a : while defining this Function, func(), value of a is not defined. So, Whenever it's called, a value should be mentioned. By default, This is place/position before first comma.\n",
    "\n",
    "        Reg **kwargs : while defining this Function, func(), after first comma, **kwargs is used. \"**kwargs\" means any number of key value pairs canbe added in form of dictionary. So, \"c=3, b=2\" is taken as dictionary."
   ]
  },
  {
   "cell_type": "markdown",
   "metadata": {},
   "source": [
    "# 5. What gets printed by this, and explain?\n",
    ">>> def func(a, b, c=8, d=5): print(a, b, c, d)\n",
    ">>> func(1, *(5, 6))\n"
   ]
  },
  {
   "cell_type": "code",
   "execution_count": 5,
   "metadata": {},
   "outputs": [
    {
     "name": "stdout",
     "output_type": "stream",
     "text": [
      "1 2 3 5\n"
     ]
    }
   ],
   "source": [
    ">>> def func(a, b, c=8, d=5): print(a, b, c, d)\n",
    ">>> func(1, *(2,3))\n"
   ]
  },
  {
   "cell_type": "markdown",
   "metadata": {},
   "source": [
    "    Explain?\n",
    "            Reg a : while defining this Function, func(), value of a is not defined. So, Whenever it's called, a value should be mentioned. By default, This is place/position before first comma.\n",
    "\n",
    "        Reg b : while defining this Function, func(), value of b is not defined. But while calling the function, the same has been called inside the *args as 2.\n",
    "            \n",
    "        Reg c : while defining this Function, func(), value of c is defined as 8. But while calling the function, the same has been called inside the *args as 3, so its overwritten.\n",
    "            \n",
    "        Reg d : while defining this Function, func(), value of d is defined as 5. So, its default value is set at 5. So, it need not be mentioned while calling the function.\n",
    "    "
   ]
  },
  {
   "cell_type": "markdown",
   "metadata": {},
   "source": [
    "# 6. what is the result of this, and explain?\n",
    ">>> def func(a, b, c): a = 2; b[0] = 'x'; c['a'] = 'y'\n",
    ">>> l=1; m=[1]; n={'a':0}\n",
    ">>> func(l, m, n)\n",
    ">>> l, m, n\n"
   ]
  },
  {
   "cell_type": "code",
   "execution_count": 6,
   "metadata": {},
   "outputs": [
    {
     "data": {
      "text/plain": [
       "(1, ['x'], {'a': 'y'})"
      ]
     },
     "execution_count": 6,
     "metadata": {},
     "output_type": "execute_result"
    }
   ],
   "source": [
    ">>> def func(a, b, c): a = 2; b[0] = 'x'; c['a'] = 'y'\n",
    ">>> l=1; m=[1]; n={'a':0}\n",
    ">>> func(l, m, n)\n",
    ">>> l, m, n"
   ]
  },
  {
   "cell_type": "markdown",
   "metadata": {},
   "source": [
    "    Explain?\n",
    "        Reg a : while defining this Function, func(), value of a is defined as integer datatype. So, integer datatype has been taken inside the place of a. Overwritten while calling the same.\n",
    "            \n",
    "        Reg b : while defining this Function, func(), the index zero of b is declared as string datatype \"x\". While decalring b as m it is assined as list datatype. So within the list, zeroth index is replaced by string data type 'x'.\n",
    "            \n",
    "        Reg c : while defining this Function, func(), c is defined as key value pair, which will assign string 'y' to 'a'. While decalring c as an the 'a' is paired with integer 0. However the same has been overwritten as 'y', because, the function has predefined value 'y' for key 'a'."
   ]
  }
 ],
 "metadata": {
  "kernelspec": {
   "display_name": "Python 3",
   "language": "python",
   "name": "python3"
  },
  "language_info": {
   "codemirror_mode": {
    "name": "ipython",
    "version": 3
   },
   "file_extension": ".py",
   "mimetype": "text/x-python",
   "name": "python",
   "nbconvert_exporter": "python",
   "pygments_lexer": "ipython3",
   "version": "3.8.5"
  }
 },
 "nbformat": 4,
 "nbformat_minor": 4
}
